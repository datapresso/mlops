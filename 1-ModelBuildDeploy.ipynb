{
 "cells": [
  {
   "cell_type": "markdown",
   "metadata": {
    "id": "c444099e-bebe-450c-a81f-a5e90a0fe2d2"
   },
   "source": [
    "# Build phase for developing machine learning models"
   ]
  },
  {
   "cell_type": "markdown",
   "metadata": {
    "id": "a3df9ff9-f08a-4ebd-b9df-bc66750685ae"
   },
   "source": [
    "This notebook builds few models on the `credit_risk_training.csv` dataset and then deploys the model into pre production and production spaces. The goal of this notebook is to predict if a customer's credit is risky or not. And provide a clear explanation for the result. This is accomplished in 5 high-level steps:\n",
    "   \n",
    "1. Packages installation:\n",
    "    * There are some pre-requisite setup steps before building ml models. We first start by installing necessary packages. \n",
    "    \n",
    "    \n",
    "2. Exploratory Data Analysis (EDA) on the Credit risk dataset: \n",
    "    * Explore the behavior of credit risks across features using a combination of a pie chart, a box plot, and a heat map. \n",
    "    * Document the relationships/insights for use in model building \n",
    "    \n",
    "        \n",
    "3. Feature engineering: \n",
    "    * Prepare data for model building and testing, by splitting data into features and label data. \n",
    "    * Perform feature engineering on some columns \n",
    "    \n",
    "    \n",
    "4. Model training/building, and ultimately outputs assets to be used in an end to end scoring pipeline.\n",
    "    * Iteratively train/test models that can improve the prediction accuracy of credit risk.\n",
    "    * Logistic Regression, Random Forest, and XGBoost models are used in experimentation.\n",
    "    \n",
    "\n",
    "5. Evaluate model: \n",
    "    * For each model mentioned above, predict and evaluate the output on a testing set. \n",
    "    * Save trained model as a Watson Machine Learning model\n",
    "    \n",
    "\n"
   ]
  },
  {
   "cell_type": "markdown",
   "metadata": {
    "id": "328945ee-22a1-4c53-ae39-743a51eed7bc"
   },
   "source": [
    "# Install Packages\n",
    "## Pre-requisite setup steps\n",
    "Install necessary packages if haven't already with required libraries"
   ]
  },
  {
   "cell_type": "code",
   "execution_count": 126,
   "metadata": {
    "id": "ca33c696-f3f1-4051-97a5-e1afb0a6420d",
    "tags": []
   },
   "outputs": [],
   "source": [
    "import warnings\n",
    "warnings.filterwarnings(\"ignore\", message=\"numpy.dtype size changed\")"
   ]
  },
  {
   "cell_type": "code",
   "execution_count": 127,
   "metadata": {
    "id": "f266065e-847e-4895-8e18-646647906ebb",
    "tags": []
   },
   "outputs": [
    {
     "data": {
      "text/plain": [
       "\"\\nSuccessfully installed ibm-ai-openscale-2.2.1\\nRequirement already satisfied: numpy in /opt/conda/envs/Python-3.8-main/lib/python3.8/site-packages (1.19.2)\\nSuccessfully installed lime-0.2.0.1\\nERROR: Could not find a version that satisfies the requirement upgrade (from versions: none)\\nERROR: No matching distribution found for upgrade\\n  WARNING: The script jupyter-pixiedust is installed in '/home/wsuser/.local/bin' which is not on PATH.\\n  Consider adding this directory to PATH or, if you prefer to suppress this warning, use --no-warn-script-location.\\nSuccessfully installed colour-0.1.5 geojson-2.5.0 pixiedust-1.1.19\\nSuccessfully installed scipy-1.7.1 sklearn-pandas-2.2.0\\nSuccessfully installed sklearn2pmml-0.74.3\\nERROR: pip's dependency resolver does not currently take into account all the packages that are installed. This behaviour is the source of the following dependency conflicts.\\nautoai-libs 1.12.9 requires scikit-learn<0.24,>=0.20.3, but you have scikit-learn 0.24.0 which is incompatible.\\nSuccessfully installed scikit-learn-0.24.0\""
      ]
     },
     "execution_count": 127,
     "metadata": {},
     "output_type": "execute_result"
    }
   ],
   "source": [
    "from IPython.display import clear_output\n",
    "!pip install numpy --no-cache --user | tail -n 1\n",
    "!pip install lime --no-cache --user | tail -n 1\n",
    "!pip install upgrade SciPy --no-cache --user | tail -n 1\n",
    "!pip install pixiedust --user | tail -n 1\n",
    "!pip install sklearn-pandas --user | tail -n 1\n",
    "!pip install sklearn2pmml --user | tail -n 1\n",
    "!pip install scikit-learn==0.24 --user | tail -n 1\n",
    "!pip install brunel --user | tail -n 1\n",
    "clear_output(wait=False)\n",
    "\n",
    "'''\n",
    "Successfully installed ibm-ai-openscale-2.2.1\n",
    "Requirement already satisfied: numpy in /opt/conda/envs/Python-3.8-main/lib/python3.8/site-packages (1.19.2)\n",
    "Successfully installed lime-0.2.0.1\n",
    "ERROR: Could not find a version that satisfies the requirement upgrade (from versions: none)\n",
    "ERROR: No matching distribution found for upgrade\n",
    "  WARNING: The script jupyter-pixiedust is installed in '/home/wsuser/.local/bin' which is not on PATH.\n",
    "  Consider adding this directory to PATH or, if you prefer to suppress this warning, use --no-warn-script-location.\n",
    "Successfully installed colour-0.1.5 geojson-2.5.0 pixiedust-1.1.19\n",
    "Successfully installed scipy-1.7.1 sklearn-pandas-2.2.0\n",
    "Successfully installed sklearn2pmml-0.74.3\n",
    "ERROR: pip's dependency resolver does not currently take into account all the packages that are installed. This behaviour is the source of the following dependency conflicts.\n",
    "autoai-libs 1.12.9 requires scikit-learn<0.24,>=0.20.3, but you have scikit-learn 0.24.0 which is incompatible.\n",
    "Successfully installed scikit-learn-0.24.0'''"
   ]
  },
  {
   "cell_type": "markdown",
   "metadata": {
    "id": "78fb6535-73e1-4ceb-a6bf-f58b68f79659"
   },
   "source": [
    "## Import necessary packages"
   ]
  },
  {
   "cell_type": "code",
   "execution_count": 128,
   "metadata": {
    "id": "a102f32b-e476-45df-a068-55dbd1907571",
    "tags": []
   },
   "outputs": [],
   "source": [
    "import sklearn\n",
    "\n",
    "import pandas as pd\n",
    "pd.options.display.max_columns = 999\n",
    "\n",
    "import brunel\n",
    "\n",
    "import warnings\n",
    "warnings.filterwarnings('ignore')\n",
    "\n",
    "from scipy.stats import chi2_contingency,ttest_ind\n",
    "import matplotlib.pyplot as plt\n",
    "import seaborn as sns\n",
    "%matplotlib inline\n",
    "\n",
    "\n",
    "from sklearn.model_selection import train_test_split, StratifiedKFold\n",
    "from sklearn.preprocessing import MinMaxScaler, LabelEncoder\n",
    "from sklearn.ensemble import RandomForestClassifier\n",
    "from sklearn.metrics import f1_score, accuracy_score, roc_curve, roc_auc_score\n",
    "\n",
    "import numpy as np\n",
    "\n",
    "import urllib3, requests, json, os"
   ]
  },
  {
   "cell_type": "markdown",
   "metadata": {
    "id": "cd7bc734-a8c3-497e-a6b1-a4ee73feec7a"
   },
   "source": [
    "# 2. Data Analysis <a name=\"dataanalysis\"></a>"
   ]
  },
  {
   "cell_type": "markdown",
   "metadata": {
    "id": "2f07a60c-76d8-4608-8749-c7c219c94ec5"
   },
   "source": [
    "## Load the redacted training data from a remote datasource\n",
    "Click on `Find Data`, then select `Remote` tab and on the data needed click on `Insert Pandas DataFrame in Python`"
   ]
  },
  {
   "cell_type": "code",
   "execution_count": 129,
   "metadata": {
    "id": "ea919241-2315-4047-b152-48ad1611c504",
    "tags": []
   },
   "outputs": [
    {
     "data": {
      "text/html": [
       "<div>\n",
       "<style scoped>\n",
       "    .dataframe tbody tr th:only-of-type {\n",
       "        vertical-align: middle;\n",
       "    }\n",
       "\n",
       "    .dataframe tbody tr th {\n",
       "        vertical-align: top;\n",
       "    }\n",
       "\n",
       "    .dataframe thead th {\n",
       "        text-align: right;\n",
       "    }\n",
       "</style>\n",
       "<table border=\"1\" class=\"dataframe\">\n",
       "  <thead>\n",
       "    <tr style=\"text-align: right;\">\n",
       "      <th></th>\n",
       "      <th>customerid</th>\n",
       "      <th>firstname</th>\n",
       "      <th>lastname</th>\n",
       "      <th>address</th>\n",
       "      <th>priphone</th>\n",
       "      <th>secphone</th>\n",
       "      <th>email</th>\n",
       "      <th>custsince</th>\n",
       "      <th>checkingstatus</th>\n",
       "      <th>loanduration</th>\n",
       "      <th>credithistory</th>\n",
       "      <th>loanpurpose</th>\n",
       "      <th>loanamount</th>\n",
       "      <th>existingsavings</th>\n",
       "      <th>employmentduration</th>\n",
       "      <th>installmentpercent</th>\n",
       "      <th>sex</th>\n",
       "      <th>othersonloan</th>\n",
       "      <th>currentresidenceduration</th>\n",
       "      <th>ownsproperty</th>\n",
       "      <th>age</th>\n",
       "      <th>installmentplans</th>\n",
       "      <th>housing</th>\n",
       "      <th>existingcreditscount</th>\n",
       "      <th>job</th>\n",
       "      <th>dependents</th>\n",
       "      <th>telephone</th>\n",
       "      <th>foreignworker</th>\n",
       "      <th>risk</th>\n",
       "    </tr>\n",
       "  </thead>\n",
       "  <tbody>\n",
       "    <tr>\n",
       "      <th>0</th>\n",
       "      <td>00-0685015</td>\n",
       "      <td>Matt</td>\n",
       "      <td>Walli</td>\n",
       "      <td>73184 Marcy Road</td>\n",
       "      <td>411-496-2035</td>\n",
       "      <td>601-660-9721</td>\n",
       "      <td>mattwalli@hotmail.com</td>\n",
       "      <td>2/13/1999</td>\n",
       "      <td>0_to_200</td>\n",
       "      <td>31</td>\n",
       "      <td>credits_paid_to_date</td>\n",
       "      <td>other</td>\n",
       "      <td>1889</td>\n",
       "      <td>100_to_500</td>\n",
       "      <td>less_1</td>\n",
       "      <td>3</td>\n",
       "      <td>male</td>\n",
       "      <td>none</td>\n",
       "      <td>3</td>\n",
       "      <td>savings_insurance</td>\n",
       "      <td>45</td>\n",
       "      <td>none</td>\n",
       "      <td>own</td>\n",
       "      <td>1</td>\n",
       "      <td>skilled</td>\n",
       "      <td>1</td>\n",
       "      <td>none</td>\n",
       "      <td>yes</td>\n",
       "      <td>No Risk</td>\n",
       "    </tr>\n",
       "    <tr>\n",
       "      <th>1</th>\n",
       "      <td>00-0825685</td>\n",
       "      <td>Shirley</td>\n",
       "      <td>Han</td>\n",
       "      <td>3683 4th Terrace</td>\n",
       "      <td>960-670-6886</td>\n",
       "      <td>687-782-3977</td>\n",
       "      <td>shirleyhan@google.com</td>\n",
       "      <td>9/25/1981</td>\n",
       "      <td>less_0</td>\n",
       "      <td>18</td>\n",
       "      <td>credits_paid_to_date</td>\n",
       "      <td>car_new</td>\n",
       "      <td>462</td>\n",
       "      <td>less_100</td>\n",
       "      <td>1_to_4</td>\n",
       "      <td>2</td>\n",
       "      <td>female</td>\n",
       "      <td>none</td>\n",
       "      <td>2</td>\n",
       "      <td>savings_insurance</td>\n",
       "      <td>23</td>\n",
       "      <td>stores</td>\n",
       "      <td>own</td>\n",
       "      <td>2</td>\n",
       "      <td>skilled</td>\n",
       "      <td>1</td>\n",
       "      <td>none</td>\n",
       "      <td>yes</td>\n",
       "      <td>No Risk</td>\n",
       "    </tr>\n",
       "    <tr>\n",
       "      <th>2</th>\n",
       "      <td>00-1578213</td>\n",
       "      <td>Tim</td>\n",
       "      <td>Bohn</td>\n",
       "      <td>47 Sycamore Street</td>\n",
       "      <td>889-606-3375</td>\n",
       "      <td>914-207-6032</td>\n",
       "      <td>timbohn@yahoo.com</td>\n",
       "      <td>11/5/1982</td>\n",
       "      <td>0_to_200</td>\n",
       "      <td>28</td>\n",
       "      <td>credits_paid_to_date</td>\n",
       "      <td>retraining</td>\n",
       "      <td>3693</td>\n",
       "      <td>less_100</td>\n",
       "      <td>greater_7</td>\n",
       "      <td>3</td>\n",
       "      <td>male</td>\n",
       "      <td>none</td>\n",
       "      <td>2</td>\n",
       "      <td>savings_insurance</td>\n",
       "      <td>49</td>\n",
       "      <td>none</td>\n",
       "      <td>own</td>\n",
       "      <td>1</td>\n",
       "      <td>skilled</td>\n",
       "      <td>1</td>\n",
       "      <td>none</td>\n",
       "      <td>yes</td>\n",
       "      <td>No Risk</td>\n",
       "    </tr>\n",
       "    <tr>\n",
       "      <th>3</th>\n",
       "      <td>00-6538323</td>\n",
       "      <td>Rakshith</td>\n",
       "      <td>DL</td>\n",
       "      <td>77097 Ludington Lane</td>\n",
       "      <td>173-678-8721</td>\n",
       "      <td>913-523-3150</td>\n",
       "      <td>rakshithdl@yahoo.com</td>\n",
       "      <td>3/25/1983</td>\n",
       "      <td>no_checking</td>\n",
       "      <td>32</td>\n",
       "      <td>outstanding_credit</td>\n",
       "      <td>vacation</td>\n",
       "      <td>9604</td>\n",
       "      <td>500_to_1000</td>\n",
       "      <td>greater_7</td>\n",
       "      <td>6</td>\n",
       "      <td>male</td>\n",
       "      <td>co-applicant</td>\n",
       "      <td>5</td>\n",
       "      <td>unknown</td>\n",
       "      <td>26</td>\n",
       "      <td>none</td>\n",
       "      <td>free</td>\n",
       "      <td>2</td>\n",
       "      <td>skilled</td>\n",
       "      <td>2</td>\n",
       "      <td>yes</td>\n",
       "      <td>yes</td>\n",
       "      <td>Risk</td>\n",
       "    </tr>\n",
       "    <tr>\n",
       "      <th>4</th>\n",
       "      <td>00-6823285</td>\n",
       "      <td>Jade</td>\n",
       "      <td>Yushu</td>\n",
       "      <td>5516 Park Meadow Park</td>\n",
       "      <td>246-479-8221</td>\n",
       "      <td>442-159-8733</td>\n",
       "      <td>jadeyushu@google.com</td>\n",
       "      <td>2/8/1989</td>\n",
       "      <td>less_0</td>\n",
       "      <td>16</td>\n",
       "      <td>credits_paid_to_date</td>\n",
       "      <td>vacation</td>\n",
       "      <td>3109</td>\n",
       "      <td>less_100</td>\n",
       "      <td>4_to_7</td>\n",
       "      <td>3</td>\n",
       "      <td>female</td>\n",
       "      <td>none</td>\n",
       "      <td>1</td>\n",
       "      <td>car_other</td>\n",
       "      <td>26</td>\n",
       "      <td>none</td>\n",
       "      <td>own</td>\n",
       "      <td>2</td>\n",
       "      <td>skilled</td>\n",
       "      <td>1</td>\n",
       "      <td>none</td>\n",
       "      <td>yes</td>\n",
       "      <td>No Risk</td>\n",
       "    </tr>\n",
       "  </tbody>\n",
       "</table>\n",
       "</div>"
      ],
      "text/plain": [
       "   customerid firstname lastname                address      priphone  \\\n",
       "0  00-0685015      Matt    Walli       73184 Marcy Road  411-496-2035   \n",
       "1  00-0825685   Shirley      Han       3683 4th Terrace  960-670-6886   \n",
       "2  00-1578213       Tim     Bohn     47 Sycamore Street  889-606-3375   \n",
       "3  00-6538323  Rakshith       DL   77097 Ludington Lane  173-678-8721   \n",
       "4  00-6823285      Jade    Yushu  5516 Park Meadow Park  246-479-8221   \n",
       "\n",
       "       secphone                  email  custsince checkingstatus  \\\n",
       "0  601-660-9721  mattwalli@hotmail.com  2/13/1999       0_to_200   \n",
       "1  687-782-3977  shirleyhan@google.com  9/25/1981         less_0   \n",
       "2  914-207-6032      timbohn@yahoo.com  11/5/1982       0_to_200   \n",
       "3  913-523-3150   rakshithdl@yahoo.com  3/25/1983    no_checking   \n",
       "4  442-159-8733   jadeyushu@google.com   2/8/1989         less_0   \n",
       "\n",
       "   loanduration         credithistory loanpurpose  loanamount existingsavings  \\\n",
       "0            31  credits_paid_to_date       other        1889      100_to_500   \n",
       "1            18  credits_paid_to_date     car_new         462        less_100   \n",
       "2            28  credits_paid_to_date  retraining        3693        less_100   \n",
       "3            32    outstanding_credit    vacation        9604     500_to_1000   \n",
       "4            16  credits_paid_to_date    vacation        3109        less_100   \n",
       "\n",
       "  employmentduration  installmentpercent     sex  othersonloan  \\\n",
       "0             less_1                   3    male          none   \n",
       "1             1_to_4                   2  female          none   \n",
       "2          greater_7                   3    male          none   \n",
       "3          greater_7                   6    male  co-applicant   \n",
       "4             4_to_7                   3  female          none   \n",
       "\n",
       "   currentresidenceduration       ownsproperty  age installmentplans housing  \\\n",
       "0                         3  savings_insurance   45             none     own   \n",
       "1                         2  savings_insurance   23           stores     own   \n",
       "2                         2  savings_insurance   49             none     own   \n",
       "3                         5            unknown   26             none    free   \n",
       "4                         1          car_other   26             none     own   \n",
       "\n",
       "   existingcreditscount      job  dependents telephone foreignworker     risk  \n",
       "0                     1  skilled           1      none           yes  No Risk  \n",
       "1                     2  skilled           1      none           yes  No Risk  \n",
       "2                     1  skilled           1      none           yes  No Risk  \n",
       "3                     2  skilled           2       yes           yes     Risk  \n",
       "4                     2  skilled           1      none           yes  No Risk  "
      ]
     },
     "execution_count": 129,
     "metadata": {},
     "output_type": "execute_result"
    }
   ],
   "source": [
    "df1 = pd.read_csv('./assets/data_asset/credit_risk_training.csv')\n",
    "df1.head()"
   ]
  },
  {
   "cell_type": "code",
   "execution_count": 130,
   "metadata": {
    "id": "31aab9f5-1df4-415a-8ff9-cfd971c94307",
    "tags": []
   },
   "outputs": [
    {
     "data": {
      "text/plain": [
       "(5001, 29)"
      ]
     },
     "execution_count": 130,
     "metadata": {},
     "output_type": "execute_result"
    }
   ],
   "source": [
    "df1.shape"
   ]
  },
  {
   "cell_type": "markdown",
   "metadata": {
    "id": "345dfe85-9f86-437d-9219-6b77dc710ca1"
   },
   "source": [
    "## Feature columns"
   ]
  },
  {
   "cell_type": "code",
   "execution_count": 131,
   "metadata": {
    "id": "ef1e06d9-3e1a-4124-bb25-fed0ceedd041",
    "tags": []
   },
   "outputs": [],
   "source": [
    "feature_columns = list(df1.columns)\n",
    "feature_columns.remove('customerid')\n",
    "feature_columns.remove('firstname')\n",
    "feature_columns.remove('lastname')\n",
    "feature_columns.remove('address')\n",
    "feature_columns.remove('priphone')\n",
    "feature_columns.remove('secphone')\n",
    "feature_columns.remove('email')\n",
    "feature_columns.remove('custsince')\n",
    "\n",
    "df1 = df1[feature_columns]"
   ]
  },
  {
   "cell_type": "markdown",
   "metadata": {
    "id": "e7bb8a8e-3775-48c6-9dc5-783cf5eb2dd7"
   },
   "source": [
    "## Convert int columns to float"
   ]
  },
  {
   "cell_type": "code",
   "execution_count": 132,
   "metadata": {
    "id": "f3792b39-881f-4655-beea-be0bcba89806",
    "tags": []
   },
   "outputs": [
    {
     "data": {
      "text/plain": [
       "checkingstatus               object\n",
       "loanduration                float64\n",
       "credithistory                object\n",
       "loanpurpose                  object\n",
       "loanamount                  float64\n",
       "existingsavings              object\n",
       "employmentduration           object\n",
       "installmentpercent          float64\n",
       "sex                          object\n",
       "othersonloan                 object\n",
       "currentresidenceduration    float64\n",
       "ownsproperty                 object\n",
       "age                         float64\n",
       "installmentplans             object\n",
       "housing                      object\n",
       "existingcreditscount        float64\n",
       "job                          object\n",
       "dependents                  float64\n",
       "telephone                    object\n",
       "foreignworker                object\n",
       "risk                         object\n",
       "dtype: object"
      ]
     },
     "execution_count": 132,
     "metadata": {},
     "output_type": "execute_result"
    }
   ],
   "source": [
    "float_columns = ['loanduration', 'loanamount', 'installmentpercent', 'currentresidenceduration', 'age', 'existingcreditscount', 'dependents']\n",
    "df1[float_columns] = df1[float_columns].astype('float64')\n",
    "df1.dtypes"
   ]
  },
  {
   "cell_type": "markdown",
   "metadata": {
    "id": "5102e6e3-7eb4-47eb-870a-70a7defb5eda"
   },
   "source": [
    "## Outcome Variable : Risk\n",
    "Evaluating the label distribution. An even distibution exists in our dataset between Risk and No Risk labels"
   ]
  },
  {
   "cell_type": "code",
   "execution_count": 133,
   "metadata": {
    "id": "4d3dee13-428c-415f-846a-60bbcbcbaed4",
    "tags": []
   },
   "outputs": [],
   "source": [
    "import brunel\n",
    "#%brunel data('df1') x('risk') y(#count) color(risk) bar tooltip(#all)"
   ]
  },
  {
   "cell_type": "markdown",
   "metadata": {
    "id": "2bb3ef69-5c24-4297-9954-69541ea45e4a"
   },
   "source": [
    "## Risk by loanpurpose\n",
    "Riskiest loans are made for repairs while the safest is new cars"
   ]
  },
  {
   "cell_type": "code",
   "execution_count": 134,
   "metadata": {
    "id": "efcae746-f62b-47c9-b1d3-5d09fcb176bf",
    "tags": []
   },
   "outputs": [],
   "source": [
    "#%brunel data('df1') polar stack bar y(#count) color(loanpurpose) percent(#count) tooltip(#all) | stack bar x(loanpurpose) y(#count) color(risk) bin(loanpurpose) percent(#count) label(#count) tooltip(#all) :: width=1200, height=350 "
   ]
  },
  {
   "cell_type": "markdown",
   "metadata": {
    "id": "e81f63d9-7360-40e9-8f53-c45be1e820f5"
   },
   "source": [
    "## Loan amount vs Credit risk\n",
    "The Risk group has a larger average loan amount"
   ]
  },
  {
   "cell_type": "code",
   "execution_count": 135,
   "metadata": {
    "id": "115f2a31-1f85-4fc8-a2af-1e25c09759f5",
    "tags": []
   },
   "outputs": [
    {
     "data": {
      "image/png": "[encoded data removed]",
      "text/plain": [
       "<Figure size 936x360 with 1 Axes>"
      ]
     },
     "metadata": {
      "needs_background": "light"
     },
     "output_type": "display_data"
    }
   ],
   "source": [
    "from scipy.stats import chi2_contingency,ttest_ind\n",
    "import matplotlib.pyplot as plt\n",
    "import seaborn as sns\n",
    "\n",
    "sub_yes = df1[df1[\"risk\"] == 'Risk']\n",
    "sub_no = df1[df1[\"risk\"] == 'No Risk']\n",
    "    \n",
    "p_value = ttest_ind(sub_yes['loanamount'], sub_no[\"loanamount\"], equal_var = False)[1]\n",
    "\n",
    "fig, axs = plt.subplots(nrows= 1, figsize=(13, 5))\n",
    "sns.boxplot(x = \"risk\", y = \"loanamount\", data = df1, showfliers=False, palette=\"Set2\")\n",
    "if p_value < .05:\n",
    "    plt.title(\"loanamount\" + \"\\n P value:\" + str(p_value) + \"\\n The distributions for the two groups are significantly different!\" + \"\\n Risk: mean/std.: \" + str(sub_yes[\"loanamount\"].describe()[1]) + \"/\" + str(sub_yes[\"loanamount\"].describe()[2]) + \"\\n No Risk: mean/std.: \" + str(sub_no[\"loanamount\"].describe()[1]) + \"/\" + str(sub_no[\"loanamount\"].describe()[2]))\n",
    "else:\n",
    "    plt.title(\"loanamount\" + \"\\n P value:\" + str(p_value) + \"\\n Risk: mean/std.: \" + str(sub_yes[\"loanamount\"].describe()[1]) + \"/\" + str(sub_yes[\"loanamount\"].describe()[2]) + \"\\n No Risk: mean/std.: \" + str(sub_safe[\"loanamount\"].describe()[1]) + \"/\" + str(sub_no[\"loanamount\"].describe()[2]))           "
   ]
  },
  {
   "cell_type": "markdown",
   "metadata": {
    "id": "b255c4ea-3748-48e3-9567-c1a7ac33c237"
   },
   "source": [
    "## Correlation Matrix - Higher values indicate higher correlation\n",
    "Loan amount is correlated with Installment percent but not above our threshold for removal\n"
   ]
  },
  {
   "cell_type": "code",
   "execution_count": 136,
   "metadata": {
    "id": "4f9dc0e3-f034-4841-85f9-2b7c94b23327",
    "tags": []
   },
   "outputs": [
    {
     "data": {
      "image/png": "[encoded data removed]",
      "text/plain": [
       "<Figure size 864x576 with 2 Axes>"
      ]
     },
     "metadata": {
      "needs_background": "light"
     },
     "output_type": "display_data"
    }
   ],
   "source": [
    "plt.figure(figsize=(12, 8))\n",
    "\n",
    "corr_df = df1.iloc[:,1:].corr()\n",
    "\n",
    "sns.heatmap(corr_df, \n",
    "            xticklabels = corr_df.columns.values,\n",
    "            yticklabels = corr_df.columns.values,\n",
    "            annot = True);"
   ]
  },
  {
   "cell_type": "markdown",
   "metadata": {
    "id": "9f384072-e7f8-4295-a9e6-ce29b4fb5568"
   },
   "source": [
    "# Data Preparation\n",
    "Prepare data for model building and testing, by splitting data into input features and label data"
   ]
  },
  {
   "cell_type": "code",
   "execution_count": 137,
   "metadata": {
    "id": "66df1ecb-e598-47cc-8707-5e7c494a8618",
    "tags": []
   },
   "outputs": [],
   "source": [
    "y = df1['risk']\n",
    "X = df1.drop(['risk'], axis=1)"
   ]
  },
  {
   "cell_type": "code",
   "execution_count": 138,
   "metadata": {
    "id": "ee4e5bf9-cc00-4965-8aaf-c8db5510a8d1",
    "tags": []
   },
   "outputs": [],
   "source": [
    "import sklearn\n",
    "\n",
    "import pandas as pd\n",
    "pd.options.display.max_columns = 999\n",
    "\n",
    "import warnings\n",
    "warnings.filterwarnings('ignore')\n",
    "\n",
    "from scipy.stats import chi2_contingency,ttest_ind\n",
    "import matplotlib.pyplot as plt\n",
    "import seaborn as sns\n",
    "%matplotlib inline\n",
    "\n",
    "\n",
    "from sklearn.model_selection import train_test_split, StratifiedKFold\n",
    "from sklearn.preprocessing import MinMaxScaler, LabelEncoder\n",
    "from sklearn.ensemble import RandomForestClassifier\n",
    "from sklearn.metrics import f1_score, accuracy_score, roc_curve, roc_auc_score\n",
    "\n",
    "import numpy as np\n",
    "\n",
    "import urllib3, requests, json, os"
   ]
  },
  {
   "cell_type": "markdown",
   "metadata": {
    "id": "2de0c842-57da-4da8-9370-9f0f9c18b66b"
   },
   "source": [
    "Split data into training and testing, and define the model and deployment name"
   ]
  },
  {
   "cell_type": "code",
   "execution_count": 139,
   "metadata": {
    "id": "6a01da6c-b302-40fb-8989-74440db98ae1",
    "tags": []
   },
   "outputs": [],
   "source": [
    "X_train, X_test, y_train, y_test = train_test_split(X, y, test_size=0.34, random_state=42, stratify=y)"
   ]
  },
  {
   "cell_type": "markdown",
   "metadata": {
    "id": "9cfef4ef-c34e-4180-89c0-f8a4e9709f0d"
   },
   "source": [
    "## Prepare the Data frame mapper pipeline - Assign encoders to categorical columns"
   ]
  },
  {
   "cell_type": "code",
   "execution_count": 140,
   "metadata": {
    "id": "01bdf862-aeed-405b-a992-a42a2da3b2e7",
    "tags": []
   },
   "outputs": [],
   "source": [
    "from sklearn_pandas import DataFrameMapper\n",
    "\n",
    "mapper = DataFrameMapper(\n",
    "    [('checkingstatus', LabelEncoder()),\n",
    "     ('loanduration', None),\n",
    "     ('credithistory',LabelEncoder()),\n",
    "     ('loanpurpose', LabelEncoder()),\n",
    "     ('loanamount',None),\n",
    "     ('existingsavings',LabelEncoder()),\n",
    "     ('employmentduration',LabelEncoder()),\n",
    "     ('age',None),\n",
    "     ('sex', LabelEncoder()),\n",
    "     ('installmentpercent',None),\n",
    "     ('othersonloan',LabelEncoder()),\n",
    "     ('ownsproperty',LabelEncoder()),\n",
    "     ('currentresidenceduration',None),\n",
    "     ('installmentplans',LabelEncoder()),\n",
    "     ('housing',LabelEncoder()),\n",
    "     ('existingcreditscount',None),\n",
    "     ('job',LabelEncoder()),\n",
    "     ('dependents',None),\n",
    "     ('telephone',LabelEncoder()),\n",
    "     ('foreignworker',LabelEncoder())]\n",
    ")"
   ]
  },
  {
   "cell_type": "markdown",
   "metadata": {
    "id": "0192a0e0-2bd4-4bac-9f70-90ddfd76424e"
   },
   "source": [
    "## Generate Token"
   ]
  },
  {
   "cell_type": "code",
   "execution_count": 141,
   "metadata": {
    "id": "ee8af15e-93e3-48b5-b385-a516cb2a35b0",
    "tags": []
   },
   "outputs": [],
   "source": [
    "import json\n",
    "import requests\n",
    "import base64\n",
    "from requests.auth import HTTPBasicAuth\n",
    "import time\n",
    "import warnings\n",
    "warnings.filterwarnings(\"ignore\", message=\"numpy.dtype size changed\")\n",
    "\n",
    "def generate_access_token():\n",
    "    headers={}\n",
    "    headers[\"Accept\"] = \"application/json\"\n",
    "    #auth = HTTPBasicAuth('xxx', 'xxxx')\n",
    "    auth = HTTPBasicAuth('datascientist', 'password')\n",
    "     \n",
    "    ICP_TOKEN_URL= 'https://ibm-nginx-svc' + \"/v1/preauth/validateAuth\"\n",
    "    \n",
    "    response = requests.get(ICP_TOKEN_URL, headers=headers, auth=auth, verify=False)\n",
    "    json_data = response.json()\n",
    "    icp_access_token = json_data['accessToken']\n",
    "    return icp_access_token\n",
    "\n",
    "token = generate_access_token()\n",
    "\n"
   ]
  },
  {
   "cell_type": "markdown",
   "metadata": {
    "id": "cb550410-79d9-4cc0-b9c6-81bf95a0d5e8"
   },
   "source": [
    "## Connect to WML"
   ]
  },
  {
   "cell_type": "code",
   "execution_count": 142,
   "metadata": {
    "id": "0a3b3b1f-d765-45a4-a09f-f29aa352b0a4",
    "tags": []
   },
   "outputs": [],
   "source": [
    "from ibm_watson_machine_learning import APIClient\n",
    "import os\n",
    "\n",
    "token = generate_access_token()\n",
    "\n",
    "wml_credentials = {\n",
    "   \"token\": token,\n",
    "   \"instance_id\" : \"openshift\",\n",
    "   \"url\": os.environ['RUNTIME_ENV_APSX_URL'],\n",
    "   \"version\": \"3.5\"\n",
    "}\n",
    "\n",
    "wml_client = APIClient(wml_credentials)"
   ]
  },
  {
   "cell_type": "markdown",
   "metadata": {
    "id": "61567f0a-c238-4d5c-b2ac-a34c4e061b4c"
   },
   "source": [
    "## Set Client to save in Project"
   ]
  },
  {
   "cell_type": "code",
   "execution_count": 143,
   "metadata": {
    "id": "5d022e3b-c630-49ed-802f-73e288597611",
    "tags": []
   },
   "outputs": [
    {
     "data": {
      "text/plain": [
       "'SUCCESS'"
      ]
     },
     "execution_count": 143,
     "metadata": {},
     "output_type": "execute_result"
    }
   ],
   "source": [
    "project_uid = os.environ['PROJECT_ID']\n",
    "wml_client.set.default_project(project_uid)"
   ]
  },
  {
   "cell_type": "markdown",
   "metadata": {
    "id": "99a51879-cb2b-43f9-abe7-fa28562a337f"
   },
   "source": [
    "# Build, Train and Save"
   ]
  },
  {
   "cell_type": "markdown",
   "metadata": {
    "id": "585338ad-8fcb-4da4-963c-266e7c1b4739"
   },
   "source": [
    "## 1.0 Logistic Regression"
   ]
  },
  {
   "cell_type": "markdown",
   "metadata": {
    "id": "6101c298-07f1-4a9f-a7f6-2bd27e42538d"
   },
   "source": [
    "## 1.1 Build the pipeline and fit the model to training data"
   ]
  },
  {
   "cell_type": "code",
   "execution_count": 144,
   "metadata": {
    "id": "a12c6a9d-2e5a-4087-99bb-0373b0a887db",
    "tags": []
   },
   "outputs": [],
   "source": [
    "mapper = DataFrameMapper(\n",
    "    [('checkingstatus', LabelEncoder()),\n",
    "     ('loanduration', None),\n",
    "     ('credithistory',LabelEncoder()),\n",
    "     ('loanpurpose', LabelEncoder()),\n",
    "     ('loanamount',None),\n",
    "     ('existingsavings',LabelEncoder()),\n",
    "     ('employmentduration',LabelEncoder()),\n",
    "     ('installmentpercent',None),\n",
    "     ('othersonloan',LabelEncoder()),\n",
    "     ('ownsproperty',LabelEncoder()),\n",
    "     ('age',None),\n",
    "     ('sex', LabelEncoder()),\n",
    "     ('currentresidenceduration',None),\n",
    "     ('installmentplans',LabelEncoder()),\n",
    "     ('housing',LabelEncoder()),\n",
    "     ('existingcreditscount',None),\n",
    "     ('job',LabelEncoder()),\n",
    "     ('dependents',None),\n",
    "     ('telephone',LabelEncoder()),\n",
    "     ('foreignworker',LabelEncoder())]\n",
    ")"
   ]
  },
  {
   "cell_type": "code",
   "execution_count": 145,
   "metadata": {
    "id": "290be6d9-4395-4571-a647-944d5f897759",
    "tags": []
   },
   "outputs": [
    {
     "data": {
      "text/plain": [
       "Pipeline(steps=[('mapper',\n",
       "                 DataFrameMapper(drop_cols=[],\n",
       "                                 features=[('checkingstatus', LabelEncoder()),\n",
       "                                           ('loanduration', None),\n",
       "                                           ('credithistory', LabelEncoder()),\n",
       "                                           ('loanpurpose', LabelEncoder()),\n",
       "                                           ('loanamount', None),\n",
       "                                           ('existingsavings', LabelEncoder()),\n",
       "                                           ('employmentduration',\n",
       "                                            LabelEncoder()),\n",
       "                                           ('installmentpercent', None),\n",
       "                                           ('othersonloan', LabelEncoder()),\n",
       "                                           ('ownsproperty', LabelEncoder()),\n",
       "                                           ('age', None),\n",
       "                                           ('sex', LabelEncoder()),\n",
       "                                           ('currentresidenceduration', None),\n",
       "                                           ('installmentplans', LabelEncoder()),\n",
       "                                           ('housing', LabelEncoder()),\n",
       "                                           ('existingcreditscount', None),\n",
       "                                           ('job', LabelEncoder()),\n",
       "                                           ('dependents', None),\n",
       "                                           ('telephone', LabelEncoder()),\n",
       "                                           ('foreignworker', LabelEncoder())])),\n",
       "                ('Classifier', LogisticRegression())])"
      ]
     },
     "execution_count": 145,
     "metadata": {},
     "output_type": "execute_result"
    }
   ],
   "source": [
    "from sklearn.linear_model import LogisticRegression\n",
    "# Retrain the model using fewer features\n",
    "model_select = LogisticRegression()\n",
    "steps = [('mapper', mapper),('Classifier', model_select)]\n",
    "pipeline = sklearn.pipeline.Pipeline(steps)\n",
    "model_lr = pipeline.fit( X_train, y_train )\n",
    "model_lr"
   ]
  },
  {
   "cell_type": "markdown",
   "metadata": {
    "id": "9b318f3d-d848-465f-a95b-b1364c9b4ec5"
   },
   "source": [
    "# 1.2 Evaluate Model"
   ]
  },
  {
   "cell_type": "markdown",
   "metadata": {
    "id": "8dfb5387-cdf6-4533-9a3c-d4d04490c541"
   },
   "source": [
    "## Predict and Evaluate the output of the Logistic Regression model on test data"
   ]
  },
  {
   "cell_type": "code",
   "execution_count": 146,
   "metadata": {
    "id": "0d2b208c-e55a-4d94-b2eb-fdd7f5f06b60",
    "tags": []
   },
   "outputs": [
    {
     "name": "stdout",
     "output_type": "stream",
     "text": [
      "              precision    recall  f1-score   support\n",
      "\n",
      "     No Risk       0.78      0.88      0.83      1133\n",
      "        Risk       0.68      0.51      0.59       568\n",
      "\n",
      "    accuracy                           0.76      1701\n",
      "   macro avg       0.73      0.70      0.71      1701\n",
      "weighted avg       0.75      0.76      0.75      1701\n",
      "\n"
     ]
    }
   ],
   "source": [
    "### call pipeline.predict() on your X_test data to make a set of test predictions\n",
    "y_prediction = pipeline.predict( X_test )\n",
    "### test your predictions using sklearn.classification_report()\n",
    "report = sklearn.metrics.classification_report( y_test, y_prediction )\n",
    "### and print the report\n",
    "print(report)"
   ]
  },
  {
   "cell_type": "markdown",
   "metadata": {
    "id": "0eef4288-4eb3-4092-84e2-3c1354724da4"
   },
   "source": [
    "## Save model to WML"
   ]
  },
  {
   "cell_type": "code",
   "execution_count": 147,
   "metadata": {
    "id": "f6b1c983-fa50-4c7b-8a13-ba9823e17498",
    "tags": []
   },
   "outputs": [],
   "source": [
    "MODEL_NAME = 'LR - Credit Risk Pipeline_TAI_demo'"
   ]
  },
  {
   "cell_type": "markdown",
   "metadata": {
    "id": "89fed94a-1e77-4be9-af40-ff6511bb2a1f"
   },
   "source": [
    "## Delete previous models saved with the same name"
   ]
  },
  {
   "cell_type": "code",
   "execution_count": 148,
   "metadata": {
    "id": "a39bbb60-7c5f-4b5c-9251-ca8dcb096476",
    "tags": []
   },
   "outputs": [],
   "source": [
    "for m in wml_client.repository.get_model_details()['resources']:\n",
    "    if m['metadata']['name'] == MODEL_NAME:\n",
    "        wml_client.repository.delete(m['metadata']['id'])"
   ]
  },
  {
   "cell_type": "code",
   "execution_count": 149,
   "metadata": {
    "id": "d3b7dbd6-63b9-485b-af2d-5de2e2ce5896",
    "tags": []
   },
   "outputs": [],
   "source": [
    "model_props_lr = {\n",
    "    wml_client.repository.ModelMetaNames.NAME: MODEL_NAME,\n",
    "    wml_client.repository.ModelMetaNames.DESCRIPTION: MODEL_NAME,\n",
    "    wml_client.repository.ModelMetaNames.SOFTWARE_SPEC_UID: wml_client.software_specifications.get_uid_by_name('default_py3.8'),\n",
    "    wml_client.repository.ModelMetaNames.TYPE: \"scikit-learn_0.23\"\n",
    "}\n",
    "\n",
    "published_model_details = wml_client.repository.store_model(model=model_lr, meta_props=model_props_lr, training_data=X_train,training_target=y_train, feature_names = list(X_train.columns))"
   ]
  },
  {
   "cell_type": "markdown",
   "metadata": {
    "id": "7e8a2e9d-7183-4113-be03-b5e8b9632df8"
   },
   "source": [
    "## 2.0 Random Forest"
   ]
  },
  {
   "cell_type": "markdown",
   "metadata": {
    "id": "877529ee-c13a-4755-bc29-e8d1499efe6c"
   },
   "source": [
    "## 2.1 Build the pipeline and fit the model to training data"
   ]
  },
  {
   "cell_type": "code",
   "execution_count": 150,
   "metadata": {
    "id": "251119ef-ef43-4144-bb02-8bb9f574a0a5",
    "tags": []
   },
   "outputs": [],
   "source": [
    "mapper = DataFrameMapper(\n",
    "    [('checkingstatus', LabelEncoder()),\n",
    "     ('loanduration', None),\n",
    "     ('credithistory',LabelEncoder()),\n",
    "     ('loanpurpose', LabelEncoder()),\n",
    "     ('loanamount',None),\n",
    "     ('age',None),\n",
    "     ('sex', LabelEncoder()),\n",
    "     ('existingsavings',LabelEncoder()),\n",
    "     ('employmentduration',LabelEncoder()),\n",
    "     ('installmentpercent',None),\n",
    "     ('othersonloan',LabelEncoder()),\n",
    "     ('ownsproperty',LabelEncoder()),\n",
    "     ('currentresidenceduration',None),\n",
    "     ('installmentplans',LabelEncoder()),\n",
    "     ('housing',LabelEncoder()),\n",
    "     ('existingcreditscount',None),\n",
    "     ('job',LabelEncoder()),\n",
    "     ('dependents',None),\n",
    "     ('telephone',LabelEncoder()),\n",
    "     ('foreignworker',LabelEncoder())]\n",
    ")"
   ]
  },
  {
   "cell_type": "code",
   "execution_count": 151,
   "metadata": {
    "id": "d9ebd0a8-13b5-4f3b-90b5-bfd495b3a735",
    "tags": []
   },
   "outputs": [
    {
     "data": {
      "text/plain": [
       "Pipeline(steps=[('mapper',\n",
       "                 DataFrameMapper(drop_cols=[],\n",
       "                                 features=[('checkingstatus', LabelEncoder()),\n",
       "                                           ('loanduration', None),\n",
       "                                           ('credithistory', LabelEncoder()),\n",
       "                                           ('loanpurpose', LabelEncoder()),\n",
       "                                           ('loanamount', None), ('age', None),\n",
       "                                           ('sex', LabelEncoder()),\n",
       "                                           ('existingsavings', LabelEncoder()),\n",
       "                                           ('employmentduration',\n",
       "                                            LabelEncoder()),\n",
       "                                           ('installmentpercent', None),\n",
       "                                           ('othersonloan', LabelEncoder()),\n",
       "                                           ('ownsproperty', LabelEncoder()),\n",
       "                                           ('currentresidenceduration', None),\n",
       "                                           ('installmentplans', LabelEncoder()),\n",
       "                                           ('housing', LabelEncoder()),\n",
       "                                           ('existingcreditscount', None),\n",
       "                                           ('job', LabelEncoder()),\n",
       "                                           ('dependents', None),\n",
       "                                           ('telephone', LabelEncoder()),\n",
       "                                           ('foreignworker', LabelEncoder())])),\n",
       "                ('Classifier', RandomForestClassifier())])"
      ]
     },
     "execution_count": 151,
     "metadata": {},
     "output_type": "execute_result"
    }
   ],
   "source": [
    "from sklearn.ensemble import RandomForestClassifier\n",
    "# Retrain the model using fewer features\n",
    "model_select = RandomForestClassifier()\n",
    "steps = [('mapper', mapper),('Classifier', model_select)]\n",
    "pipeline = sklearn.pipeline.Pipeline(steps)\n",
    "model_rf = pipeline.fit( X_train, y_train )\n",
    "model_rf"
   ]
  },
  {
   "cell_type": "markdown",
   "metadata": {
    "id": "859f3ad7-539e-4142-8ff5-6813de0310ec"
   },
   "source": [
    "## 2.2 Predict and Evaluate the output of the Random Forest model on test data"
   ]
  },
  {
   "cell_type": "code",
   "execution_count": 152,
   "metadata": {
    "id": "694ca92a-344f-49d1-9ff4-22cadbaec3b9",
    "tags": []
   },
   "outputs": [
    {
     "name": "stdout",
     "output_type": "stream",
     "text": [
      "              precision    recall  f1-score   support\n",
      "\n",
      "     No Risk       0.79      0.90      0.84      1133\n",
      "        Risk       0.73      0.52      0.61       568\n",
      "\n",
      "    accuracy                           0.78      1701\n",
      "   macro avg       0.76      0.71      0.73      1701\n",
      "weighted avg       0.77      0.78      0.76      1701\n",
      "\n"
     ]
    }
   ],
   "source": [
    "### call pipeline.predict() on your X_test data to make a set of test predictions\n",
    "y_prediction = pipeline.predict( X_test )\n",
    "### test your predictions using sklearn.classification_report()\n",
    "report = sklearn.metrics.classification_report( y_test, y_prediction )\n",
    "### and print the report\n",
    "print(report)"
   ]
  },
  {
   "cell_type": "markdown",
   "metadata": {
    "id": "d2ccc50b-df70-4623-bac9-af21bbb76dca"
   },
   "source": [
    "## 2.3 Save model to WML"
   ]
  },
  {
   "cell_type": "code",
   "execution_count": 153,
   "metadata": {
    "id": "0490fbf8-cce9-46ca-be94-2e0c27105c4e",
    "tags": []
   },
   "outputs": [],
   "source": [
    "MODEL_NAME = 'RF - Credit Risk Pipeline_TAI_demo'"
   ]
  },
  {
   "cell_type": "markdown",
   "metadata": {
    "id": "d8d496cf-b744-4b33-98de-3342f4390eeb"
   },
   "source": [
    "## Delete previous models saved with the same name"
   ]
  },
  {
   "cell_type": "code",
   "execution_count": 154,
   "metadata": {
    "id": "1b202eb5-57ef-49d0-8043-d08a5faef38a",
    "tags": []
   },
   "outputs": [],
   "source": [
    "for m in wml_client.repository.get_model_details()['resources']:\n",
    "    if m['metadata']['name'] == MODEL_NAME:\n",
    "        wml_client.repository.delete(m['metadata']['id'])"
   ]
  },
  {
   "cell_type": "code",
   "execution_count": 155,
   "metadata": {
    "id": "dbd7102c-6aad-4337-bd08-2d8ff7a9a0e7",
    "tags": []
   },
   "outputs": [],
   "source": [
    "model_props_rf = {\n",
    "    wml_client.repository.ModelMetaNames.NAME: MODEL_NAME,\n",
    "    wml_client.repository.ModelMetaNames.DESCRIPTION: MODEL_NAME,\n",
    "    wml_client.repository.ModelMetaNames.SOFTWARE_SPEC_UID: wml_client.software_specifications.get_uid_by_name('default_py3.8'),\n",
    "    wml_client.repository.ModelMetaNames.TYPE: \"scikit-learn_0.23\"\n",
    "}\n",
    "\n",
    "published_model_details = wml_client.repository.store_model(model=model_rf, meta_props=model_props_rf, training_data=X_train,training_target=y_train, feature_names = list(X_train.columns))"
   ]
  },
  {
   "cell_type": "markdown",
   "metadata": {
    "id": "55c97e16-c724-455a-a615-0bf322484a61"
   },
   "source": [
    "## 3.0 XGBoost"
   ]
  },
  {
   "cell_type": "markdown",
   "metadata": {
    "id": "43270b1e-3c4e-4866-bd79-198253e10384"
   },
   "source": [
    "## 3.1 Build the pipeline and fit the model to training data"
   ]
  },
  {
   "cell_type": "code",
   "execution_count": 170,
   "metadata": {
    "id": "f8ca8f0f-8e0d-455b-bcda-5958c221efb8",
    "tags": []
   },
   "outputs": [],
   "source": [
    "mapper = DataFrameMapper(\n",
    "    [('checkingstatus', LabelEncoder()),\n",
    "     ('loanduration', None),\n",
    "     ('credithistory',LabelEncoder()),\n",
    "     ('loanpurpose', LabelEncoder()),\n",
    "     ('loanamount',None),\n",
    "     ('existingsavings',LabelEncoder()),\n",
    "     ('employmentduration',LabelEncoder()),\n",
    "     ('installmentpercent',None),\n",
    "     ('othersonloan',LabelEncoder()),\n",
    "     ('age',None),\n",
    "     ('sex', LabelEncoder()),\n",
    "     ('ownsproperty',LabelEncoder()),\n",
    "     ('currentresidenceduration',None),\n",
    "     ('installmentplans',LabelEncoder()),\n",
    "     ('housing',LabelEncoder()),\n",
    "     ('existingcreditscount',None),\n",
    "     ('job',LabelEncoder()),\n",
    "     ('dependents',None),\n",
    "     ('telephone',LabelEncoder()),\n",
    "     ('foreignworker',LabelEncoder())]\n",
    ")"
   ]
  },
  {
   "cell_type": "code",
   "execution_count": 171,
   "metadata": {
    "id": "5166737b-6823-403f-a9de-6626aca3cfd9"
   },
   "outputs": [],
   "source": [
    "import time\n",
    "start_time = time.time()"
   ]
  },
  {
   "cell_type": "code",
   "execution_count": 172,
   "metadata": {
    "id": "fc13b70c-676e-4ccd-a313-32fd418e56c7",
    "tags": []
   },
   "outputs": [
    {
     "data": {
      "text/plain": [
       "Pipeline(steps=[('mapper',\n",
       "                 DataFrameMapper(drop_cols=[],\n",
       "                                 features=[('checkingstatus', LabelEncoder()),\n",
       "                                           ('loanduration', None),\n",
       "                                           ('credithistory', LabelEncoder()),\n",
       "                                           ('loanpurpose', LabelEncoder()),\n",
       "                                           ('loanamount', None),\n",
       "                                           ('existingsavings', LabelEncoder()),\n",
       "                                           ('employmentduration',\n",
       "                                            LabelEncoder()),\n",
       "                                           ('installmentpercent', None),\n",
       "                                           ('othersonloan', LabelEncoder()),\n",
       "                                           ('age', None)...\n",
       "                               gamma=0, gpu_id=-1, importance_type='gain',\n",
       "                               interaction_constraints='',\n",
       "                               learning_rate=0.300000012, max_delta_step=0,\n",
       "                               max_depth=6, min_child_weight=1, missing=nan,\n",
       "                               monotone_constraints='()', n_estimators=100,\n",
       "                               n_jobs=16, num_parallel_tree=1, random_state=0,\n",
       "                               reg_alpha=0, reg_lambda=1, scale_pos_weight=1,\n",
       "                               subsample=1, tree_method='exact',\n",
       "                               validate_parameters=1, verbosity=None))])"
      ]
     },
     "execution_count": 172,
     "metadata": {},
     "output_type": "execute_result"
    }
   ],
   "source": [
    "from xgboost import XGBClassifier\n",
    "# Retrain the model using fewer features\n",
    "model_select = XGBClassifier(eval_metric='mlogloss')\n",
    "steps = [('mapper', mapper),('Classifier', model_select)]\n",
    "pipeline = sklearn.pipeline.Pipeline(steps)\n",
    "model_xgb = pipeline.fit( X_train, y_train )\n",
    "model_xgb"
   ]
  },
  {
   "cell_type": "code",
   "execution_count": 173,
   "metadata": {
    "id": "c3e7b1f9-0222-457c-afb1-f4b612913128"
   },
   "outputs": [
    {
     "name": "stdout",
     "output_type": "stream",
     "text": [
      "this took:7.0930750370025635\n"
     ]
    }
   ],
   "source": [
    "print(\"this took:\" + str(time.time() - start_time))"
   ]
  },
  {
   "cell_type": "markdown",
   "metadata": {
    "id": "d011264e-01df-46cb-a068-e901ad07ddcc"
   },
   "source": [
    "## 3.2 Predict and Evaluate the output of the XGBoost model on test data"
   ]
  },
  {
   "cell_type": "code",
   "execution_count": 174,
   "metadata": {
    "id": "df118b81-b880-4519-b30e-3380cce64bc5",
    "tags": []
   },
   "outputs": [
    {
     "name": "stdout",
     "output_type": "stream",
     "text": [
      "              precision    recall  f1-score   support\n",
      "\n",
      "     No Risk       0.80      0.86      0.83      1133\n",
      "        Risk       0.68      0.57      0.62       568\n",
      "\n",
      "    accuracy                           0.77      1701\n",
      "   macro avg       0.74      0.72      0.72      1701\n",
      "weighted avg       0.76      0.77      0.76      1701\n",
      "\n"
     ]
    }
   ],
   "source": [
    "### call pipeline.predict() on your X_test data to make a set of test predictions\n",
    "y_prediction = pipeline.predict( X_test )\n",
    "### test your predictions using sklearn.classification_report()\n",
    "report = sklearn.metrics.classification_report( y_test, y_prediction )\n",
    "### and print the report\n",
    "print(report)"
   ]
  },
  {
   "cell_type": "markdown",
   "metadata": {
    "id": "fcfac79e-d44e-464a-b428-a1c4854f1a83"
   },
   "source": [
    "## 3.3 Save model to WML"
   ]
  },
  {
   "cell_type": "code",
   "execution_count": 175,
   "metadata": {
    "id": "cf541ad5-7e49-4847-b279-5712ff132863"
   },
   "outputs": [],
   "source": [
    "MODEL_NAME = 'XGB - Credit Risk Pipeline_TAI_demo'"
   ]
  },
  {
   "cell_type": "markdown",
   "metadata": {
    "id": "229eee7d-5994-4c38-91c5-2b9eb9f9e927"
   },
   "source": [
    "## 3.4 Delete previous models saved with the same name"
   ]
  },
  {
   "cell_type": "code",
   "execution_count": 176,
   "metadata": {
    "id": "98d70b1d-c25d-4bc0-bb80-841c30500f1a"
   },
   "outputs": [],
   "source": [
    "for m in wml_client.repository.get_model_details()['resources']:\n",
    "    if m['metadata']['name'] == MODEL_NAME:\n",
    "        wml_client.repository.delete(m['metadata']['id'])"
   ]
  },
  {
   "cell_type": "code",
   "execution_count": 177,
   "metadata": {
    "id": "4a19d947-e811-4112-8037-1b74492e2f36"
   },
   "outputs": [
    {
     "ename": "ApiRequestFailure",
     "evalue": "Failure during list assets. (GET https://internal-nginx-svc:12443/v2/software_specifications?version=2021-06-24&space_id=1fa1ced1-76b3-450c-9cde-0f1cf45d5bf7&userfs=true&name=default_py3.8)\nStatus code: 500, body: {\"trace\":\"3deacf3c-bcc8-4630-83f0-0104f59ae06f\",\"errors\":[{\"code\":\"invalid_response\",\"message\":\"Invalid error response for search software specification asset. Details: {\\\"code\\\":400,\\\"error\\\":\\\"Bad Request\\\",\\\"reason\\\":\\\"Required request parameters missing\\\",\\\"message\\\":\\\"The server cannot or will not process the request due to an apparent client error (e.g. malformed request syntax).\\\"}\"}]}",
     "output_type": "error",
     "traceback": [
      "\u001b[0;31m---------------------------------------------------------------------------\u001b[0m",
      "\u001b[0;31mApiRequestFailure\u001b[0m                         Traceback (most recent call last)",
      "\u001b[0;32m<ipython-input-177-25ed11270c3c>\u001b[0m in \u001b[0;36m<module>\u001b[0;34m\u001b[0m\n\u001b[1;32m      2\u001b[0m     \u001b[0mwml_client\u001b[0m\u001b[0;34m.\u001b[0m\u001b[0mrepository\u001b[0m\u001b[0;34m.\u001b[0m\u001b[0mModelMetaNames\u001b[0m\u001b[0;34m.\u001b[0m\u001b[0mNAME\u001b[0m\u001b[0;34m:\u001b[0m \u001b[0mMODEL_NAME\u001b[0m\u001b[0;34m,\u001b[0m\u001b[0;34m\u001b[0m\u001b[0;34m\u001b[0m\u001b[0m\n\u001b[1;32m      3\u001b[0m     \u001b[0mwml_client\u001b[0m\u001b[0;34m.\u001b[0m\u001b[0mrepository\u001b[0m\u001b[0;34m.\u001b[0m\u001b[0mModelMetaNames\u001b[0m\u001b[0;34m.\u001b[0m\u001b[0mDESCRIPTION\u001b[0m\u001b[0;34m:\u001b[0m \u001b[0mMODEL_NAME\u001b[0m\u001b[0;34m,\u001b[0m\u001b[0;34m\u001b[0m\u001b[0;34m\u001b[0m\u001b[0m\n\u001b[0;32m----> 4\u001b[0;31m     \u001b[0mwml_client\u001b[0m\u001b[0;34m.\u001b[0m\u001b[0mrepository\u001b[0m\u001b[0;34m.\u001b[0m\u001b[0mModelMetaNames\u001b[0m\u001b[0;34m.\u001b[0m\u001b[0mSOFTWARE_SPEC_UID\u001b[0m\u001b[0;34m:\u001b[0m \u001b[0mwml_client\u001b[0m\u001b[0;34m.\u001b[0m\u001b[0msoftware_specifications\u001b[0m\u001b[0;34m.\u001b[0m\u001b[0mget_uid_by_name\u001b[0m\u001b[0;34m(\u001b[0m\u001b[0;34m'default_py3.8'\u001b[0m\u001b[0;34m)\u001b[0m\u001b[0;34m,\u001b[0m\u001b[0;34m\u001b[0m\u001b[0;34m\u001b[0m\u001b[0m\n\u001b[0m\u001b[1;32m      5\u001b[0m     \u001b[0mwml_client\u001b[0m\u001b[0;34m.\u001b[0m\u001b[0mrepository\u001b[0m\u001b[0;34m.\u001b[0m\u001b[0mModelMetaNames\u001b[0m\u001b[0;34m.\u001b[0m\u001b[0mTYPE\u001b[0m\u001b[0;34m:\u001b[0m \u001b[0;34m\"scikit-learn_0.23\"\u001b[0m\u001b[0;34m\u001b[0m\u001b[0;34m\u001b[0m\u001b[0m\n\u001b[1;32m      6\u001b[0m }\n",
      "\u001b[0;32m/opt/conda/envs/Python-3.8-main/lib/python3.8/site-packages/ibm_watson_machine_learning/sw_spec.py\u001b[0m in \u001b[0;36mget_uid_by_name\u001b[0;34m(self, sw_spec_name)\u001b[0m\n\u001b[1;32m    364\u001b[0m                                         headers=self._client._get_headers(), verify=False)\n\u001b[1;32m    365\u001b[0m \u001b[0;34m\u001b[0m\u001b[0m\n\u001b[0;32m--> 366\u001b[0;31m             \u001b[0mtotal_values\u001b[0m \u001b[0;34m=\u001b[0m \u001b[0mself\u001b[0m\u001b[0;34m.\u001b[0m\u001b[0m_handle_response\u001b[0m\u001b[0;34m(\u001b[0m\u001b[0;36m200\u001b[0m\u001b[0;34m,\u001b[0m \u001b[0;34mu'list assets'\u001b[0m\u001b[0;34m,\u001b[0m \u001b[0mresponse\u001b[0m\u001b[0;34m)\u001b[0m\u001b[0;34m[\u001b[0m\u001b[0;34m\"total_results\"\u001b[0m\u001b[0;34m]\u001b[0m\u001b[0;34m\u001b[0m\u001b[0;34m\u001b[0m\u001b[0m\n\u001b[0m\u001b[1;32m    367\u001b[0m             \u001b[0;32mif\u001b[0m \u001b[0mtotal_values\u001b[0m \u001b[0;34m!=\u001b[0m \u001b[0;36m0\u001b[0m\u001b[0;34m:\u001b[0m\u001b[0;34m\u001b[0m\u001b[0;34m\u001b[0m\u001b[0m\n\u001b[1;32m    368\u001b[0m                 \u001b[0msw_spec_details\u001b[0m \u001b[0;34m=\u001b[0m \u001b[0mself\u001b[0m\u001b[0;34m.\u001b[0m\u001b[0m_handle_response\u001b[0m\u001b[0;34m(\u001b[0m\u001b[0;36m200\u001b[0m\u001b[0;34m,\u001b[0m \u001b[0;34mu'list assets'\u001b[0m\u001b[0;34m,\u001b[0m \u001b[0mresponse\u001b[0m\u001b[0;34m)\u001b[0m\u001b[0;34m[\u001b[0m\u001b[0;34m\"resources\"\u001b[0m\u001b[0;34m]\u001b[0m\u001b[0;34m\u001b[0m\u001b[0;34m\u001b[0m\u001b[0m\n",
      "\u001b[0;32m/opt/conda/envs/Python-3.8-main/lib/python3.8/site-packages/ibm_watson_machine_learning/wml_resource.py\u001b[0m in \u001b[0;36m_handle_response\u001b[0;34m(self, expected_status_code, operationName, response, json_response)\u001b[0m\n\u001b[1;32m     71\u001b[0m                 \u001b[0;32mreturn\u001b[0m \u001b[0mresponse\u001b[0m\u001b[0;34m.\u001b[0m\u001b[0mtext\u001b[0m\u001b[0;34m\u001b[0m\u001b[0;34m\u001b[0m\u001b[0m\n\u001b[1;32m     72\u001b[0m         \u001b[0;32melse\u001b[0m\u001b[0;34m:\u001b[0m\u001b[0;34m\u001b[0m\u001b[0;34m\u001b[0m\u001b[0m\n\u001b[0;32m---> 73\u001b[0;31m             \u001b[0;32mraise\u001b[0m \u001b[0mApiRequestFailure\u001b[0m\u001b[0;34m(\u001b[0m\u001b[0;34mu'Failure during {}.'\u001b[0m\u001b[0;34m.\u001b[0m\u001b[0mformat\u001b[0m\u001b[0;34m(\u001b[0m\u001b[0moperationName\u001b[0m\u001b[0;34m)\u001b[0m\u001b[0;34m,\u001b[0m \u001b[0mresponse\u001b[0m\u001b[0;34m)\u001b[0m\u001b[0;34m\u001b[0m\u001b[0;34m\u001b[0m\u001b[0m\n\u001b[0m\u001b[1;32m     74\u001b[0m \u001b[0;34m\u001b[0m\u001b[0m\n\u001b[1;32m     75\u001b[0m     \u001b[0;34m@\u001b[0m\u001b[0mstaticmethod\u001b[0m\u001b[0;34m\u001b[0m\u001b[0;34m\u001b[0m\u001b[0m\n",
      "\u001b[0;31mApiRequestFailure\u001b[0m: Failure during list assets. (GET https://internal-nginx-svc:12443/v2/software_specifications?version=2021-06-24&space_id=1fa1ced1-76b3-450c-9cde-0f1cf45d5bf7&userfs=true&name=default_py3.8)\nStatus code: 500, body: {\"trace\":\"3deacf3c-bcc8-4630-83f0-0104f59ae06f\",\"errors\":[{\"code\":\"invalid_response\",\"message\":\"Invalid error response for search software specification asset. Details: {\\\"code\\\":400,\\\"error\\\":\\\"Bad Request\\\",\\\"reason\\\":\\\"Required request parameters missing\\\",\\\"message\\\":\\\"The server cannot or will not process the request due to an apparent client error (e.g. malformed request syntax).\\\"}\"}]}"
     ]
    }
   ],
   "source": [
    "model_props_xgb = {\n",
    "    wml_client.repository.ModelMetaNames.NAME: MODEL_NAME,\n",
    "    wml_client.repository.ModelMetaNames.DESCRIPTION: MODEL_NAME,\n",
    "    wml_client.repository.ModelMetaNames.SOFTWARE_SPEC_UID: wml_client.software_specifications.get_uid_by_name('default_py3.8'),\n",
    "    wml_client.repository.ModelMetaNames.TYPE: \"scikit-learn_0.23\"\n",
    "}\n",
    "\n",
    "published_model_details = wml_client.repository.store_model(model=model_xgb, meta_props=model_props_xgb, training_data=X_train,training_target=y_train, feature_names = list(X_train.columns))"
   ]
  },
  {
   "cell_type": "markdown",
   "metadata": {
    "id": "9d34c5c2-a50e-48f1-bf3f-867b715344ba"
   },
   "source": [
    "XGBoost is found to be the best of 3 models based on model metrics and historical analysis and is chosen for deployment into production. QA will be performed on it and it's performance will be evaluated over time\n",
    "\n",
    "Random Forest is chosen as the challenger model and is deployed into pre-prodcution. If it performs better than XGBoost that's in production under production data, then it will be promoted into production"
   ]
  },
  {
   "cell_type": "markdown",
   "metadata": {
    "id": "413cb1e9-437f-4905-9103-38cea9516bdc"
   },
   "source": [
    "## Save the best classification model to WML prod deployment space\n",
    "\n",
    "The best model is promoted to production space and remains there until a challenger model in pre-production performs relatively better than the production model for some duration, we will promote this to production. This is what we show here with two spaces, where we compare one model in pre-production (challenger model) vs the model in production (champion model). "
   ]
  },
  {
   "cell_type": "code",
   "execution_count": null,
   "metadata": {
    "id": "e89820e3-79bf-4394-8d3c-7a50cea65fd5"
   },
   "outputs": [],
   "source": [
    "SPACE_NAME = \"pre-prod-credit-risk-accelerator-space_TAI_demo\"\n",
    "MODEL_NAME = 'RF - Credit Risk Pipeline_TAI_demo'\n",
    "DEPLOYMENT_NAME = \"pre_prod_rf_credit_risk_pipeline_deployment_TAI_demo\""
   ]
  },
  {
   "cell_type": "code",
   "execution_count": null,
   "metadata": {
    "id": "f4819435-0822-4242-acd4-df99ac4ebeb5"
   },
   "outputs": [],
   "source": [
    "# Find and set the default space\n",
    "space_name = SPACE_NAME\n",
    "spaces = wml_client.spaces.get_details()['resources']\n",
    "space_id = None\n",
    "for space in spaces:\n",
    "    if space['entity']['name'] == space_name:\n",
    "        space_id = space[\"metadata\"][\"id\"]\n",
    "if space_id is None:\n",
    "    space_id = wml_client.spaces.store(\n",
    "        meta_props={wml_client.spaces.ConfigurationMetaNames.NAME: space_name})[\"metadata\"][\"id\"]\n",
    "wml_client.set.default_space(space_id)"
   ]
  },
  {
   "cell_type": "code",
   "execution_count": null,
   "metadata": {
    "id": "3db4e5b853714c86bdac970206a35c20"
   },
   "outputs": [],
   "source": [
    "wml_client.spaces.get_details()['resources']"
   ]
  },
  {
   "cell_type": "markdown",
   "metadata": {
    "id": "1798b93c-6113-4bb2-8f14-baacc22a1185"
   },
   "source": [
    "## Delete any previous deployment and it's associated model before creating a new one"
   ]
  },
  {
   "cell_type": "code",
   "execution_count": null,
   "metadata": {
    "id": "0e4d01c3-458c-4aac-a95a-f6d120252983"
   },
   "outputs": [],
   "source": [
    "deployment_details = wml_client.deployments.get_details()\n",
    "for deployment in deployment_details['resources']:\n",
    "    deployment_id = deployment['metadata']['id']\n",
    "    model_id = deployment['entity']['asset']['id']\n",
    "    if deployment['entity']['name'] == DEPLOYMENT_NAME:\n",
    "        print('Deleting deployment id', deployment_id)\n",
    "        wml_client.deployments.delete(deployment_id)\n",
    "        print('Deleting model id', model_id)\n",
    "        wml_client.repository.delete(model_id)"
   ]
  },
  {
   "cell_type": "markdown",
   "metadata": {
    "id": "802a3572-110d-496a-8550-5da73695f17d"
   },
   "source": [
    "## Save model to space and get model_id"
   ]
  },
  {
   "cell_type": "code",
   "execution_count": null,
   "metadata": {
    "id": "37fd1a39c5fa44b8952573bdec94e377"
   },
   "outputs": [],
   "source": [
    "wml_client.set.default_space(space_id)# to set the space or client.set.default_project(<PROJECT_GUID>)."
   ]
  },
  {
   "cell_type": "code",
   "execution_count": null,
   "metadata": {
    "id": "ff0d34f0-7ff2-439b-954b-3da4f8a0f4ee",
    "tags": []
   },
   "outputs": [],
   "source": [
    "model_props = {\n",
    "    wml_client.repository.ModelMetaNames.NAME: MODEL_NAME,\n",
    "    wml_client.repository.ModelMetaNames.DESCRIPTION: MODEL_NAME,\n",
    "    wml_client.repository.ModelMetaNames.SOFTWARE_SPEC_UID: wml_client.software_specifications.get_uid_by_name('default_py3.8'),\n",
    "    wml_client.repository.ModelMetaNames.TYPE: \"scikit-learn_0.23\"\n",
    "}\n",
    "\n",
    "published_model_details = wml_client.repository.store_model(model=model_rf, meta_props=model_props, training_data=X_train,training_target=y_train, feature_names = list(X_train.columns))\n",
    "#published_model_details = wml_client.repository.store_model(model=model_rf, meta_props=model_props, training_data=X_train,training_target=y_train)"
   ]
  },
  {
   "cell_type": "code",
   "execution_count": null,
   "metadata": {
    "id": "67ea57b0-a7c8-4519-af35-31e03c6cc7d6"
   },
   "outputs": [],
   "source": [
    "model_uid = wml_client.repository.get_model_uid(published_model_details)\n",
    "model_uid"
   ]
  },
  {
   "cell_type": "markdown",
   "metadata": {
    "id": "ee8500a7-03bc-45cd-bcc8-d890fac0b874"
   },
   "source": [
    "## Create Model Deployment"
   ]
  },
  {
   "cell_type": "code",
   "execution_count": null,
   "metadata": {
    "id": "e8933bf7-dfb2-4143-b9ac-77ff5030a814"
   },
   "outputs": [],
   "source": [
    "metadata_fields = list(X_train.columns)\n",
    "\n",
    "meta_props_deployment = {\n",
    "   wml_client.deployments.ConfigurationMetaNames.NAME: DEPLOYMENT_NAME,\n",
    "   wml_client.deployments.ConfigurationMetaNames.CUSTOM: metadata_fields,\n",
    "   wml_client.deployments.ConfigurationMetaNames.ONLINE: {}\n",
    "}\n",
    "\n",
    "deployment_details = wml_client.deployments.create(artifact_uid=model_uid, meta_props=meta_props_deployment)"
   ]
  },
  {
   "cell_type": "code",
   "execution_count": null,
   "metadata": {
    "id": "23b5675d46f64011993e21502b73b85a"
   },
   "outputs": [],
   "source": [
    "#get deployment uid\n",
    "deployment_uid = wml_client.deployments.get_uid(deployment_details)\n",
    "print(deployment_uid)"
   ]
  },
  {
   "cell_type": "markdown",
   "metadata": {
    "id": "881515e6-eecd-4682-9c4e-5d2c0f99da95"
   },
   "source": [
    "## Scoring the deployed model"
   ]
  },
  {
   "cell_type": "code",
   "execution_count": null,
   "metadata": {
    "id": "c33893ee-2160-49d7-9d4c-48887253fb10"
   },
   "outputs": [],
   "source": [
    "scoring_model_deployment_id = wml_client.deployments.get_uid(deployment_details)\n",
    "scoring_url = wml_client.deployments.get_details(scoring_model_deployment_id)['entity']['status']['online_url']['url']\n",
    "scoring_url = scoring_url + '?version=2021-09-21'\n",
    "print(scoring_url)"
   ]
  },
  {
   "cell_type": "code",
   "execution_count": null,
   "metadata": {
    "id": "5149b7caa64a453b9b262c6907e3617f"
   },
   "outputs": [],
   "source": [
    "# Payload for scoring\n",
    "X = X_test.iloc[0:1]\n",
    "\n",
    "fields = list(X.columns)\n",
    "values = X.values.tolist()\n",
    "request_data = {\"values\": values}\n",
    "payload_data = {\"input_data\" : [request_data]}\n",
    "print(payload_data) "
   ]
  },
  {
   "cell_type": "code",
   "execution_count": null,
   "metadata": {
    "id": "4cf6e493-1cae-47d2-9194-bf73c52140c2"
   },
   "outputs": [],
   "source": [
    "import urllib3, requests, json\n",
    "token = generate_access_token()\n",
    "# NOTE: you must construct mltoken based on provided documentation\n",
    "header = {'Content-Type': 'application/json', 'Authorization': 'Bearer ' + token}\n",
    "\n",
    "# NOTE: manually define and pass the array(s) of values to be scored in the next line\n",
    "payload_scoring = payload_data\n",
    "\n",
    "response_scoring = requests.post(scoring_url, json=payload_scoring, headers=header, verify=False)\n",
    "print(\"Scoring response\")\n",
    "print(json.loads(response_scoring.text))"
   ]
  },
  {
   "cell_type": "markdown",
   "metadata": {
    "id": "03d5ec1e-cd71-4c64-83b4-69c0cec2f752"
   },
   "source": [
    "## Save the best classification model to WML prod deployment space"
   ]
  },
  {
   "cell_type": "code",
   "execution_count": null,
   "metadata": {
    "id": "3e6b43c3-073d-46ad-b9f7-45af60def77b"
   },
   "outputs": [],
   "source": [
    "SPACE_NAME = \"prod-credit-risk-accelerator-space_TAI_demo\"\n",
    "MODEL_NAME = 'XGB - Credit Risk Pipeline_TAI_demo'\n",
    "#MODEL_NAME = 'RF - Credit Risk Pipeline_TAI_demo'\n",
    "DEPLOYMENT_NAME = \"prod_xgb_credit_risk_pipeline_deployment_TAI_demo\""
   ]
  },
  {
   "cell_type": "code",
   "execution_count": null,
   "metadata": {
    "id": "be9580dc-c10c-431a-8b5f-f25b4c282f46"
   },
   "outputs": [],
   "source": [
    "# Find and set the default space\n",
    "space_name = SPACE_NAME\n",
    "spaces = wml_client.spaces.get_details()['resources']\n",
    "space_id = None\n",
    "for space in spaces:\n",
    "    if space['entity']['name'] == space_name:\n",
    "        space_id = space[\"metadata\"][\"id\"]\n",
    "if space_id is None:\n",
    "    space_id = wml_client.spaces.store(\n",
    "        meta_props={wml_client.spaces.ConfigurationMetaNames.NAME: space_name})[\"metadata\"][\"id\"]\n",
    "wml_client.set.default_space(space_id)"
   ]
  },
  {
   "cell_type": "code",
   "execution_count": null,
   "metadata": {
    "id": "9f1226cd64da4b8c8ceeba50f19160c8"
   },
   "outputs": [],
   "source": [
    "wml_client.spaces.get_details()['resources']"
   ]
  },
  {
   "cell_type": "markdown",
   "metadata": {
    "id": "0ba0697a-e639-4e70-88f1-eae25aa62bac"
   },
   "source": [
    "## Delete any previous deployment and it's associated model before creating a new one"
   ]
  },
  {
   "cell_type": "code",
   "execution_count": null,
   "metadata": {
    "id": "a9441a37-51fc-48aa-95f9-1d1c3e8bdb55"
   },
   "outputs": [],
   "source": [
    "deployment_details = wml_client.deployments.get_details()\n",
    "for deployment in deployment_details['resources']:\n",
    "    deployment_id = deployment['metadata']['id']\n",
    "    model_id = deployment['entity']['asset']['id']\n",
    "    if deployment['entity']['name'] == DEPLOYMENT_NAME:\n",
    "        print('Deleting deployment id', deployment_id)\n",
    "        wml_client.deployments.delete(deployment_id)\n",
    "        print('Deleting model id', model_id)\n",
    "        wml_client.repository.delete(model_id)"
   ]
  },
  {
   "cell_type": "markdown",
   "metadata": {
    "id": "3c66b860-c957-4b11-86f5-0a9492f1388e"
   },
   "source": [
    "## Save model to space and get model_id"
   ]
  },
  {
   "cell_type": "code",
   "execution_count": null,
   "metadata": {
    "id": "7dff4654-6cd9-465e-a886-3cee26f0d6fb"
   },
   "outputs": [],
   "source": [
    "model_props = {\n",
    "    wml_client.repository.ModelMetaNames.NAME: MODEL_NAME,\n",
    "    wml_client.repository.ModelMetaNames.DESCRIPTION: MODEL_NAME,\n",
    "    wml_client.repository.ModelMetaNames.SOFTWARE_SPEC_UID: wml_client.software_specifications.get_uid_by_name('default_py3.8'),\n",
    "    wml_client.repository.ModelMetaNames.TYPE: \"scikit-learn_0.23\"\n",
    "}\n",
    "\n",
    "published_model_details = wml_client.repository.store_model(model=model_rf, meta_props=model_props, training_data=X_train,training_target=y_train, feature_names = list(X_train.columns))\n",
    "'''\n",
    "model_props = {\n",
    "    wml_client.repository.ModelMetaNames.NAME: MODEL_NAME,\n",
    "    wml_client.repository.ModelMetaNames.DESCRIPTION: MODEL_NAME,\n",
    "    wml_client.repository.ModelMetaNames.SOFTWARE_SPEC_UID: wml_client.software_specifications.get_uid_by_name('default_py3.8'),\n",
    "    wml_client.repository.ModelMetaNames.TYPE: \"scikit-learn_0.23\"\n",
    "}\n",
    "\n",
    "published_model_details = wml_client.repository.store_model(model=model_xgb, meta_props=model_props, training_data=X_train,training_target=y_train, feature_names = list(X_train.columns))'''"
   ]
  },
  {
   "cell_type": "code",
   "execution_count": null,
   "metadata": {
    "id": "920aaa72-c6e8-42a6-a1ef-10daec72ab13"
   },
   "outputs": [],
   "source": [
    "model_uid = wml_client.repository.get_model_uid(published_model_details)\n",
    "model_uid"
   ]
  },
  {
   "cell_type": "markdown",
   "metadata": {
    "id": "30373c70-95a1-4d1d-a77f-e5db4afb48f9"
   },
   "source": [
    "## Create Model Deployment"
   ]
  },
  {
   "cell_type": "code",
   "execution_count": null,
   "metadata": {
    "id": "822eb79e-2898-4d18-af14-b0a30a4a721e"
   },
   "outputs": [],
   "source": [
    "metadata_fields = list(X_train.columns)\n",
    "\n",
    "meta_props_deployment = {\n",
    "   wml_client.deployments.ConfigurationMetaNames.NAME: DEPLOYMENT_NAME,\n",
    "   wml_client.deployments.ConfigurationMetaNames.CUSTOM: metadata_fields,\n",
    "   wml_client.deployments.ConfigurationMetaNames.ONLINE: {}\n",
    "}\n",
    "\n",
    "deployment_details = wml_client.deployments.create(artifact_uid=model_uid, meta_props=meta_props_deployment)"
   ]
  },
  {
   "cell_type": "code",
   "execution_count": null,
   "metadata": {
    "id": "b6a87a09b54548608445b911a8cf1b2f"
   },
   "outputs": [],
   "source": [
    "#get deployment uid\n",
    "deployment_uid = wml_client.deployments.get_uid(deployment_details)\n",
    "print(deployment_uid)"
   ]
  },
  {
   "cell_type": "markdown",
   "metadata": {
    "id": "70ead68c-f450-4a05-ac28-c26293044238"
   },
   "source": [
    "# Scoring the deployed model"
   ]
  },
  {
   "cell_type": "code",
   "execution_count": null,
   "metadata": {
    "id": "155332ce-2a39-47e9-b7d5-ebc4c1eb1695"
   },
   "outputs": [],
   "source": [
    "scoring_model_deployment_id = wml_client.deployments.get_uid(deployment_details)\n",
    "scoring_url = wml_client.deployments.get_details(scoring_model_deployment_id)['entity']['status']['online_url']['url']\n",
    "scoring_url = scoring_url + '?version=2021-09-21'"
   ]
  },
  {
   "cell_type": "code",
   "execution_count": null,
   "metadata": {
    "id": "db7e8848-6242-4c1c-ada1-20f81425ff06"
   },
   "outputs": [],
   "source": [
    "# Payload for scoring\n",
    "X = X_test.iloc[0:1]\n",
    "\n",
    "fields = list(X.columns)\n",
    "values = X.values.tolist()\n",
    "request_data = {\"values\": values}\n",
    "payload_data = {\"input_data\" : [request_data]}\n",
    "print(payload_data) "
   ]
  },
  {
   "cell_type": "code",
   "execution_count": null,
   "metadata": {
    "id": "515aeb89-2df5-42f9-88d5-f3ead5f0c33f"
   },
   "outputs": [],
   "source": [
    "import urllib3, requests, json\n",
    "token = generate_access_token()\n",
    "# NOTE: you must construct mltoken based on provided documentation\n",
    "header = {'Content-Type': 'application/json', 'Authorization': 'Bearer ' + token}\n",
    "\n",
    "# NOTE: manually define and pass the array(s) of values to be scored in the next line\n",
    "payload_scoring = payload_data\n",
    "\n",
    "response_scoring = requests.post(scoring_url, json=payload_scoring, headers=header, verify=False)\n",
    "print(\"Scoring response\")\n",
    "print(json.loads(response_scoring.text))"
   ]
  },
  {
   "cell_type": "markdown",
   "metadata": {
    "id": "bfbcd94f-72c4-477e-ac07-ddc9d372dbec"
   },
   "source": [
    "## Copy and paste the `payload_data` to test the deployed model from the spaces under the `Test` section"
   ]
  },
  {
   "cell_type": "markdown",
   "metadata": {
    "id": "4925d901-2b9b-4fd5-9b1d-3a25e29e9c86"
   },
   "source": [
    "{\"input_data\": [{\"values\": [[\"less_0\", 10.0, \"prior_payments_delayed\", \"furniture\", 1368.0, \"less_100\", \"1_to_4\", 2.0, \"female\", \"none\", 2.0, \"car_other\", 24.0, \"stores\", \"own\", 2.0, \"skilled\", 1.0, \"none\", \"yes\"]]}]}"
   ]
  },
  {
   "cell_type": "code",
   "execution_count": null,
   "metadata": {
    "id": "b26ff461cc0740799e818f251c3e57ac"
   },
   "outputs": [],
   "source": []
  }
 ],
 "metadata": {
  "kernelspec": {
   "display_name": "Python 3.8",
   "language": "python",
   "name": "python3"
  },
  "language_info": {
   "codemirror_mode": {
    "name": "ipython",
    "version": 3
   },
   "file_extension": ".py",
   "mimetype": "text/x-python",
   "name": "python",
   "nbconvert_exporter": "python",
   "pygments_lexer": "ipython3",
   "version": "3.8.11"
  }
 },
 "nbformat": 4,
 "nbformat_minor": 4
}
